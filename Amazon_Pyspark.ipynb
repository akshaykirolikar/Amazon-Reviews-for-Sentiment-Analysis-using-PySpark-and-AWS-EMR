{
 "cells": [
  {
   "cell_type": "code",
   "execution_count": 1,
   "metadata": {},
   "outputs": [
    {
     "data": {
      "application/vnd.jupyter.widget-view+json": {
       "model_id": "8c9e9f663be7414087d2e46218c73d28",
       "version_major": 2,
       "version_minor": 0
      },
      "text/plain": [
       "VBox()"
      ]
     },
     "metadata": {},
     "output_type": "display_data"
    },
    {
     "name": "stdout",
     "output_type": "stream",
     "text": [
      "Starting Spark application\n"
     ]
    },
    {
     "data": {
      "text/html": [
       "<table>\n",
       "<tr><th>ID</th><th>YARN Application ID</th><th>Kind</th><th>State</th><th>Spark UI</th><th>Driver log</th><th>Current session?</th></tr><tr><td>6</td><td>application_1574809323548_0007</td><td>pyspark</td><td>idle</td><td></td><td></td><td>✔</td></tr></table>"
      ],
      "text/plain": [
       "<IPython.core.display.HTML object>"
      ]
     },
     "metadata": {},
     "output_type": "display_data"
    },
    {
     "data": {
      "application/vnd.jupyter.widget-view+json": {
       "model_id": "",
       "version_major": 2,
       "version_minor": 0
      },
      "text/plain": [
       "FloatProgress(value=0.0, bar_style='info', description='Progress:', layout=Layout(height='25px', width='50%'),…"
      ]
     },
     "metadata": {},
     "output_type": "display_data"
    },
    {
     "name": "stdout",
     "output_type": "stream",
     "text": [
      "SparkSession available as 'spark'.\n"
     ]
    },
    {
     "data": {
      "application/vnd.jupyter.widget-view+json": {
       "model_id": "",
       "version_major": 2,
       "version_minor": 0
      },
      "text/plain": [
       "FloatProgress(value=0.0, bar_style='info', description='Progress:', layout=Layout(height='25px', width='50%'),…"
      ]
     },
     "metadata": {},
     "output_type": "display_data"
    }
   ],
   "source": [
    "from pyspark.ml import Pipeline\n",
    "from pyspark.ml.feature import Tokenizer, RegexTokenizer\n",
    "from pyspark.ml.classification import LogisticRegression\n",
    "from pyspark.ml.evaluation import MulticlassClassificationEvaluator\n",
    "from pyspark.ml.feature import HashingTF, Tokenizer\n",
    "from pyspark.sql.functions import udf\n",
    "from pyspark.sql.types import IntegerType, DoubleType\n",
    "from pyspark.sql.functions import col, udf\n",
    "from pyspark import SparkContext, SparkConf\n",
    "from pyspark.sql import SQLContext, Row"
   ]
  },
  {
   "cell_type": "code",
   "execution_count": 2,
   "metadata": {},
   "outputs": [
    {
     "data": {
      "application/vnd.jupyter.widget-view+json": {
       "model_id": "fdad374b44a04d9daa82c5901b9976ad",
       "version_major": 2,
       "version_minor": 0
      },
      "text/plain": [
       "VBox()"
      ]
     },
     "metadata": {},
     "output_type": "display_data"
    },
    {
     "data": {
      "application/vnd.jupyter.widget-view+json": {
       "model_id": "",
       "version_major": 2,
       "version_minor": 0
      },
      "text/plain": [
       "FloatProgress(value=0.0, bar_style='info', description='Progress:', layout=Layout(height='25px', width='50%'),…"
      ]
     },
     "metadata": {},
     "output_type": "display_data"
    }
   ],
   "source": [
    "rdd1 = sc.textFile(\"s3://akshaycl201/train.txt\")"
   ]
  },
  {
   "cell_type": "code",
   "execution_count": 3,
   "metadata": {},
   "outputs": [
    {
     "data": {
      "application/vnd.jupyter.widget-view+json": {
       "model_id": "990099ff989e46d0bdabfe769e476a97",
       "version_major": 2,
       "version_minor": 0
      },
      "text/plain": [
       "VBox()"
      ]
     },
     "metadata": {},
     "output_type": "display_data"
    },
    {
     "data": {
      "application/vnd.jupyter.widget-view+json": {
       "model_id": "",
       "version_major": 2,
       "version_minor": 0
      },
      "text/plain": [
       "FloatProgress(value=0.0, bar_style='info', description='Progress:', layout=Layout(height='25px', width='50%'),…"
      ]
     },
     "metadata": {},
     "output_type": "display_data"
    },
    {
     "name": "stdout",
     "output_type": "stream",
     "text": [
      "[['2', 'Stuning even for the non-gamer: This sound track was beautiful! It paints the senery in your mind so well I would recomend it even to people who hate vid. game music! I have played the game Chrono Cross but out of all of the games I have ever played it has the best music! It backs away from crude keyboarding and takes a fresher step with grate guitars and soulful orchestras. It would impress anyone who cares to listen! ^_^'], ['2', \"The best soundtrack ever to anything.: I'm reading a lot of reviews saying that this is the best 'game soundtrack' and I figured that I'd write a review to disagree a bit. This in my opinino is Yasunori Mitsuda's ultimate masterpiece. The music is timeless and I'm been listening to it for years now and its beauty simply refuses to fade.The price tag on this is pretty staggering I must say, but if you are going to buy any cd for this much money, this is the only one that I feel would be worth every penny.\"], ['2', 'Amazing!: This soundtrack is my favorite music of all time, hands down. The intense sadness of \"Prisoners of Fate\" (which means all the more if you\\'ve played the game) and the hope in \"A Distant Promise\" and \"Girl who Stole the Star\" have been an important inspiration to me personally throughout my teen years. The higher energy tracks like \"Chrono Cross ~ Time\\'s Scar~\", \"Time of the Dreamwatch\", and \"Chronomantique\" (indefinably remeniscent of Chrono Trigger) are all absolutely superb as well.This soundtrack is amazing music, probably the best of this composer\\'s work (I haven\\'t heard the Xenogears soundtrack, so I can\\'t say for sure), and even if you\\'ve never played the game, it would be worth twice the price to buy it.I wish I could give it 6 stars.'], ['2', \"Excellent Soundtrack: I truly like this soundtrack and I enjoy video game music. I have played this game and most of the music on here I enjoy and it's truly relaxing and peaceful.On disk one. my favorites are Scars Of Time, Between Life and Death, Forest Of Illusion, Fortress of Ancient Dragons, Lost Fragment, and Drowned Valley.Disk Two: The Draggons, Galdorb - Home, Chronomantique, Prisoners of Fate, Gale, and my girlfriend likes ZelbessDisk Three: The best of the three. Garden Of God, Chronopolis, Fates, Jellyfish sea, Burning Orphange, Dragon's Prayer, Tower Of Stars, Dragon God, and Radical Dreamers - Unstealable Jewel.Overall, this is a excellent soundtrack and should be brought by those that like video game music.Xander Cross\"], ['2', \"Remember, Pull Your Jaw Off The Floor After Hearing it: If you've played the game, you know how divine the music is! Every single song tells a story of the game, it's that good! The greatest songs are without a doubt, Chrono Cross: Time's Scar, Magical Dreamers: The Wind, The Stars, and the Sea and Radical Dreamers: Unstolen Jewel. (Translation varies) This music is perfect if you ask me, the best it can be. Yasunori Mitsuda just poured his heart on and wrote it down on paper.\"]]"
     ]
    }
   ],
   "source": [
    "rdd1_1=rdd1.map(lambda x: x.replace(\"__label__2\",\"2\"))\n",
    "rdd1_2=rdd1_1.map(lambda x: x.replace(\"__label__1\",\"1\"))\n",
    "rdd2 = rdd1_2.map(lambda x: x.split(\" \",1))\n",
    "rdd2.take(5)"
   ]
  },
  {
   "cell_type": "code",
   "execution_count": 4,
   "metadata": {},
   "outputs": [
    {
     "data": {
      "application/vnd.jupyter.widget-view+json": {
       "model_id": "e455c33616864c29b07358d639b2e68e",
       "version_major": 2,
       "version_minor": 0
      },
      "text/plain": [
       "VBox()"
      ]
     },
     "metadata": {},
     "output_type": "display_data"
    },
    {
     "data": {
      "application/vnd.jupyter.widget-view+json": {
       "model_id": "",
       "version_major": 2,
       "version_minor": 0
      },
      "text/plain": [
       "FloatProgress(value=0.0, bar_style='info', description='Progress:', layout=Layout(height='25px', width='50%'),…"
      ]
     },
     "metadata": {},
     "output_type": "display_data"
    }
   ],
   "source": [
    "from pyspark.sql.types import DoubleType\n",
    "from pyspark.sql.functions import rand \n",
    "from time import time\n",
    "from pyspark import SparkContext, SparkConf\n",
    "from pyspark.sql import SQLContext, Row"
   ]
  },
  {
   "cell_type": "code",
   "execution_count": 5,
   "metadata": {},
   "outputs": [
    {
     "data": {
      "application/vnd.jupyter.widget-view+json": {
       "model_id": "00752928c1314aad9e8dad30dbd09f7d",
       "version_major": 2,
       "version_minor": 0
      },
      "text/plain": [
       "VBox()"
      ]
     },
     "metadata": {},
     "output_type": "display_data"
    },
    {
     "data": {
      "application/vnd.jupyter.widget-view+json": {
       "model_id": "",
       "version_major": 2,
       "version_minor": 0
      },
      "text/plain": [
       "FloatProgress(value=0.0, bar_style='info', description='Progress:', layout=Layout(height='25px', width='50%'),…"
      ]
     },
     "metadata": {},
     "output_type": "display_data"
    },
    {
     "name": "stdout",
     "output_type": "stream",
     "text": [
      "[Row(label='2', reviewText='Stuning even for the non-gamer: This sound track was beautiful! It paints the senery in your mind so well I would recomend it even to people who hate vid. game music! I have played the game Chrono Cross but out of all of the games I have ever played it has the best music! It backs away from crude keyboarding and takes a fresher step with grate guitars and soulful orchestras. It would impress anyone who cares to listen! ^_^'), Row(label='2', reviewText=\"The best soundtrack ever to anything.: I'm reading a lot of reviews saying that this is the best 'game soundtrack' and I figured that I'd write a review to disagree a bit. This in my opinino is Yasunori Mitsuda's ultimate masterpiece. The music is timeless and I'm been listening to it for years now and its beauty simply refuses to fade.The price tag on this is pretty staggering I must say, but if you are going to buy any cd for this much money, this is the only one that I feel would be worth every penny.\"), Row(label='2', reviewText='Amazing!: This soundtrack is my favorite music of all time, hands down. The intense sadness of \"Prisoners of Fate\" (which means all the more if you\\'ve played the game) and the hope in \"A Distant Promise\" and \"Girl who Stole the Star\" have been an important inspiration to me personally throughout my teen years. The higher energy tracks like \"Chrono Cross ~ Time\\'s Scar~\", \"Time of the Dreamwatch\", and \"Chronomantique\" (indefinably remeniscent of Chrono Trigger) are all absolutely superb as well.This soundtrack is amazing music, probably the best of this composer\\'s work (I haven\\'t heard the Xenogears soundtrack, so I can\\'t say for sure), and even if you\\'ve never played the game, it would be worth twice the price to buy it.I wish I could give it 6 stars.'), Row(label='2', reviewText=\"Excellent Soundtrack: I truly like this soundtrack and I enjoy video game music. I have played this game and most of the music on here I enjoy and it's truly relaxing and peaceful.On disk one. my favorites are Scars Of Time, Between Life and Death, Forest Of Illusion, Fortress of Ancient Dragons, Lost Fragment, and Drowned Valley.Disk Two: The Draggons, Galdorb - Home, Chronomantique, Prisoners of Fate, Gale, and my girlfriend likes ZelbessDisk Three: The best of the three. Garden Of God, Chronopolis, Fates, Jellyfish sea, Burning Orphange, Dragon's Prayer, Tower Of Stars, Dragon God, and Radical Dreamers - Unstealable Jewel.Overall, this is a excellent soundtrack and should be brought by those that like video game music.Xander Cross\"), Row(label='2', reviewText=\"Remember, Pull Your Jaw Off The Floor After Hearing it: If you've played the game, you know how divine the music is! Every single song tells a story of the game, it's that good! The greatest songs are without a doubt, Chrono Cross: Time's Scar, Magical Dreamers: The Wind, The Stars, and the Sea and Radical Dreamers: Unstolen Jewel. (Translation varies) This music is perfect if you ask me, the best it can be. Yasunori Mitsuda just poured his heart on and wrote it down on paper.\")]"
     ]
    }
   ],
   "source": [
    "rdd3 = rdd2.map(lambda x: Row(label=x[0],reviewText=x[1]))\n",
    "rdd3.take(5)"
   ]
  },
  {
   "cell_type": "code",
   "execution_count": 6,
   "metadata": {},
   "outputs": [
    {
     "data": {
      "application/vnd.jupyter.widget-view+json": {
       "model_id": "9b5958d931c84dca8673ea858175a174",
       "version_major": 2,
       "version_minor": 0
      },
      "text/plain": [
       "VBox()"
      ]
     },
     "metadata": {},
     "output_type": "display_data"
    },
    {
     "data": {
      "application/vnd.jupyter.widget-view+json": {
       "model_id": "",
       "version_major": 2,
       "version_minor": 0
      },
      "text/plain": [
       "FloatProgress(value=0.0, bar_style='info', description='Progress:', layout=Layout(height='25px', width='50%'),…"
      ]
     },
     "metadata": {},
     "output_type": "display_data"
    },
    {
     "name": "stdout",
     "output_type": "stream",
     "text": [
      "+-----+--------------------+\n",
      "|label|          reviewText|\n",
      "+-----+--------------------+\n",
      "|    2|Stuning even for ...|\n",
      "|    2|The best soundtra...|\n",
      "|    2|Amazing!: This so...|\n",
      "|    2|Excellent Soundtr...|\n",
      "|    2|Remember, Pull Yo...|\n",
      "|    2|an absolute maste...|\n",
      "|    1|Buyer beware: Thi...|\n",
      "|    2|Glorious story: I...|\n",
      "|    2|A FIVE STAR BOOK:...|\n",
      "|    2|Whispers of the W...|\n",
      "|    1|The Worst!: A com...|\n",
      "|    2|Great book: This ...|\n",
      "|    2|Great Read: I tho...|\n",
      "|    1|Oh please: I gues...|\n",
      "|    1|Awful beyond beli...|\n",
      "|    1|Don't try to fool...|\n",
      "|    2|A romantic zen ba...|\n",
      "|    2|Fashionable Compr...|\n",
      "|    2|Jobst UltraSheer ...|\n",
      "|    1|sizes recomended ...|\n",
      "+-----+--------------------+\n",
      "only showing top 20 rows"
     ]
    }
   ],
   "source": [
    "# Converting an RDD to DataFrame\n",
    "df=sqlContext.createDataFrame(rdd3)\n",
    "# Registers this DataFrame as a temporary table using the given name\n",
    "df.registerTempTable(\"df\")\n",
    "# convert String labels to Double type\n",
    "df = df.withColumn(\"label\", df.label)\n",
    "df.show()"
   ]
  },
  {
   "cell_type": "code",
   "execution_count": 7,
   "metadata": {},
   "outputs": [
    {
     "data": {
      "application/vnd.jupyter.widget-view+json": {
       "model_id": "5266afcf7768471f961209e4874382e0",
       "version_major": 2,
       "version_minor": 0
      },
      "text/plain": [
       "VBox()"
      ]
     },
     "metadata": {},
     "output_type": "display_data"
    },
    {
     "data": {
      "application/vnd.jupyter.widget-view+json": {
       "model_id": "",
       "version_major": 2,
       "version_minor": 0
      },
      "text/plain": [
       "FloatProgress(value=0.0, bar_style='info', description='Progress:', layout=Layout(height='25px', width='50%'),…"
      ]
     },
     "metadata": {},
     "output_type": "display_data"
    }
   ],
   "source": [
    "sqlContext.registerDataFrameAsTable(df, \"table1\")\n",
    "df2 = sqlContext.sql(\"SELECT reviewText, label from table1 WHERE reviewText != ''\")"
   ]
  },
  {
   "cell_type": "code",
   "execution_count": 8,
   "metadata": {},
   "outputs": [
    {
     "data": {
      "application/vnd.jupyter.widget-view+json": {
       "model_id": "1ae721602da243a98a83b30d75845aea",
       "version_major": 2,
       "version_minor": 0
      },
      "text/plain": [
       "VBox()"
      ]
     },
     "metadata": {},
     "output_type": "display_data"
    },
    {
     "data": {
      "application/vnd.jupyter.widget-view+json": {
       "model_id": "",
       "version_major": 2,
       "version_minor": 0
      },
      "text/plain": [
       "FloatProgress(value=0.0, bar_style='info', description='Progress:', layout=Layout(height='25px', width='50%'),…"
      ]
     },
     "metadata": {},
     "output_type": "display_data"
    },
    {
     "name": "stdout",
     "output_type": "stream",
     "text": [
      "+--------------------+-----+\n",
      "|          reviewText|label|\n",
      "+--------------------+-----+\n",
      "|Stuning even for ...|    2|\n",
      "|The best soundtra...|    2|\n",
      "|Amazing!: This so...|    2|\n",
      "|Excellent Soundtr...|    2|\n",
      "|Remember, Pull Yo...|    2|\n",
      "+--------------------+-----+\n",
      "only showing top 5 rows"
     ]
    }
   ],
   "source": [
    "df2.show(5)"
   ]
  },
  {
   "cell_type": "code",
   "execution_count": 9,
   "metadata": {},
   "outputs": [
    {
     "data": {
      "application/vnd.jupyter.widget-view+json": {
       "model_id": "3680ef83c0024f6a835ff2bc7f0c7266",
       "version_major": 2,
       "version_minor": 0
      },
      "text/plain": [
       "VBox()"
      ]
     },
     "metadata": {},
     "output_type": "display_data"
    },
    {
     "data": {
      "application/vnd.jupyter.widget-view+json": {
       "model_id": "",
       "version_major": 2,
       "version_minor": 0
      },
      "text/plain": [
       "FloatProgress(value=0.0, bar_style='info', description='Progress:', layout=Layout(height='25px', width='50%'),…"
      ]
     },
     "metadata": {},
     "output_type": "display_data"
    }
   ],
   "source": [
    "regexTokenizer = RegexTokenizer(inputCol=\"reviewText\", outputCol=\"words\", pattern=\"\\\\W\")\n",
    "# alternatively, pattern=\"\\\\w+\", gaps(False)\n",
    "countTokens = udf(lambda words: len(words), IntegerType())\n"
   ]
  },
  {
   "cell_type": "code",
   "execution_count": 10,
   "metadata": {},
   "outputs": [
    {
     "data": {
      "application/vnd.jupyter.widget-view+json": {
       "model_id": "277f468ecd1e488ca66adaa724677739",
       "version_major": 2,
       "version_minor": 0
      },
      "text/plain": [
       "VBox()"
      ]
     },
     "metadata": {},
     "output_type": "display_data"
    },
    {
     "data": {
      "application/vnd.jupyter.widget-view+json": {
       "model_id": "",
       "version_major": 2,
       "version_minor": 0
      },
      "text/plain": [
       "FloatProgress(value=0.0, bar_style='info', description='Progress:', layout=Layout(height='25px', width='50%'),…"
      ]
     },
     "metadata": {},
     "output_type": "display_data"
    },
    {
     "name": "stdout",
     "output_type": "stream",
     "text": [
      "+---------------------------------------------------------------------------------------------------------------------------------------------------------------------------------------------------------------------------------------------------------------------------------------------------------------------------------------------------------------------------------------------------------------------------------------------------------------------------------------------------------------------------------------------------------------------------------------------------------------------------------------------------------------------------------------------------------------------------------------------------------------------------------------------------------------------------------------------------------+------------------------------------------------------------------------------------------------------------------------------------------------------------------------------------------------------------------------------------------------------------------------------------------------------------------------------------------------------------------------------------------------------------------------------------------------------------------------------------------------------------------------------------------------------------------------------------------------------------------------------------------------------------------------------------------------------------------------------------------------------------------------------------------------------------------------------------------------------------------------------------------------------------------------------------------------------------------------------------+------+\n",
      "|reviewText                                                                                                                                                                                                                                                                                                                                                                                                                                                                                                                                                                                                                                                                                                                                                                                                                                               |words                                                                                                                                                                                                                                                                                                                                                                                                                                                                                                                                                                                                                                                                                                                                                                                                                                                                                                                                                                               |tokens|\n",
      "+---------------------------------------------------------------------------------------------------------------------------------------------------------------------------------------------------------------------------------------------------------------------------------------------------------------------------------------------------------------------------------------------------------------------------------------------------------------------------------------------------------------------------------------------------------------------------------------------------------------------------------------------------------------------------------------------------------------------------------------------------------------------------------------------------------------------------------------------------------+------------------------------------------------------------------------------------------------------------------------------------------------------------------------------------------------------------------------------------------------------------------------------------------------------------------------------------------------------------------------------------------------------------------------------------------------------------------------------------------------------------------------------------------------------------------------------------------------------------------------------------------------------------------------------------------------------------------------------------------------------------------------------------------------------------------------------------------------------------------------------------------------------------------------------------------------------------------------------------+------+\n",
      "|Stuning even for the non-gamer: This sound track was beautiful! It paints the senery in your mind so well I would recomend it even to people who hate vid. game music! I have played the game Chrono Cross but out of all of the games I have ever played it has the best music! It backs away from crude keyboarding and takes a fresher step with grate guitars and soulful orchestras. It would impress anyone who cares to listen! ^_^                                                                                                                                                                                                                                                                                                                                                                                                               |[stuning, even, for, the, non, gamer, this, sound, track, was, beautiful, it, paints, the, senery, in, your, mind, so, well, i, would, recomend, it, even, to, people, who, hate, vid, game, music, i, have, played, the, game, chrono, cross, but, out, of, all, of, the, games, i, have, ever, played, it, has, the, best, music, it, backs, away, from, crude, keyboarding, and, takes, a, fresher, step, with, grate, guitars, and, soulful, orchestras, it, would, impress, anyone, who, cares, to, listen, _]                                                                                                                                                                                                                                                                                                                                                                                                                                                                 |81    |\n",
      "|The best soundtrack ever to anything.: I'm reading a lot of reviews saying that this is the best 'game soundtrack' and I figured that I'd write a review to disagree a bit. This in my opinino is Yasunori Mitsuda's ultimate masterpiece. The music is timeless and I'm been listening to it for years now and its beauty simply refuses to fade.The price tag on this is pretty staggering I must say, but if you are going to buy any cd for this much money, this is the only one that I feel would be worth every penny.                                                                                                                                                                                                                                                                                                                            |[the, best, soundtrack, ever, to, anything, i, m, reading, a, lot, of, reviews, saying, that, this, is, the, best, game, soundtrack, and, i, figured, that, i, d, write, a, review, to, disagree, a, bit, this, in, my, opinino, is, yasunori, mitsuda, s, ultimate, masterpiece, the, music, is, timeless, and, i, m, been, listening, to, it, for, years, now, and, its, beauty, simply, refuses, to, fade, the, price, tag, on, this, is, pretty, staggering, i, must, say, but, if, you, are, going, to, buy, any, cd, for, this, much, money, this, is, the, only, one, that, i, feel, would, be, worth, every, penny]                                                                                                                                                                                                                                                                                                                                                         |102   |\n",
      "|Amazing!: This soundtrack is my favorite music of all time, hands down. The intense sadness of \"Prisoners of Fate\" (which means all the more if you've played the game) and the hope in \"A Distant Promise\" and \"Girl who Stole the Star\" have been an important inspiration to me personally throughout my teen years. The higher energy tracks like \"Chrono Cross ~ Time's Scar~\", \"Time of the Dreamwatch\", and \"Chronomantique\" (indefinably remeniscent of Chrono Trigger) are all absolutely superb as well.This soundtrack is amazing music, probably the best of this composer's work (I haven't heard the Xenogears soundtrack, so I can't say for sure), and even if you've never played the game, it would be worth twice the price to buy it.I wish I could give it 6 stars.                                                                 |[amazing, this, soundtrack, is, my, favorite, music, of, all, time, hands, down, the, intense, sadness, of, prisoners, of, fate, which, means, all, the, more, if, you, ve, played, the, game, and, the, hope, in, a, distant, promise, and, girl, who, stole, the, star, have, been, an, important, inspiration, to, me, personally, throughout, my, teen, years, the, higher, energy, tracks, like, chrono, cross, time, s, scar, time, of, the, dreamwatch, and, chronomantique, indefinably, remeniscent, of, chrono, trigger, are, all, absolutely, superb, as, well, this, soundtrack, is, amazing, music, probably, the, best, of, this, composer, s, work, i, haven, t, heard, the, xenogears, soundtrack, so, i, can, t, say, for, sure, and, even, if, you, ve, never, played, the, game, it, would, be, worth, twice, the, price, to, buy, it, i, wish, i, could, give, it, 6, stars]                                                                                    |136   |\n",
      "|Excellent Soundtrack: I truly like this soundtrack and I enjoy video game music. I have played this game and most of the music on here I enjoy and it's truly relaxing and peaceful.On disk one. my favorites are Scars Of Time, Between Life and Death, Forest Of Illusion, Fortress of Ancient Dragons, Lost Fragment, and Drowned Valley.Disk Two: The Draggons, Galdorb - Home, Chronomantique, Prisoners of Fate, Gale, and my girlfriend likes ZelbessDisk Three: The best of the three. Garden Of God, Chronopolis, Fates, Jellyfish sea, Burning Orphange, Dragon's Prayer, Tower Of Stars, Dragon God, and Radical Dreamers - Unstealable Jewel.Overall, this is a excellent soundtrack and should be brought by those that like video game music.Xander Cross                                                                                  |[excellent, soundtrack, i, truly, like, this, soundtrack, and, i, enjoy, video, game, music, i, have, played, this, game, and, most, of, the, music, on, here, i, enjoy, and, it, s, truly, relaxing, and, peaceful, on, disk, one, my, favorites, are, scars, of, time, between, life, and, death, forest, of, illusion, fortress, of, ancient, dragons, lost, fragment, and, drowned, valley, disk, two, the, draggons, galdorb, home, chronomantique, prisoners, of, fate, gale, and, my, girlfriend, likes, zelbessdisk, three, the, best, of, the, three, garden, of, god, chronopolis, fates, jellyfish, sea, burning, orphange, dragon, s, prayer, tower, of, stars, dragon, god, and, radical, dreamers, unstealable, jewel, overall, this, is, a, excellent, soundtrack, and, should, be, brought, by, those, that, like, video, game, music, xander, cross]                                                                                                               |122   |\n",
      "|Remember, Pull Your Jaw Off The Floor After Hearing it: If you've played the game, you know how divine the music is! Every single song tells a story of the game, it's that good! The greatest songs are without a doubt, Chrono Cross: Time's Scar, Magical Dreamers: The Wind, The Stars, and the Sea and Radical Dreamers: Unstolen Jewel. (Translation varies) This music is perfect if you ask me, the best it can be. Yasunori Mitsuda just poured his heart on and wrote it down on paper.                                                                                                                                                                                                                                                                                                                                                        |[remember, pull, your, jaw, off, the, floor, after, hearing, it, if, you, ve, played, the, game, you, know, how, divine, the, music, is, every, single, song, tells, a, story, of, the, game, it, s, that, good, the, greatest, songs, are, without, a, doubt, chrono, cross, time, s, scar, magical, dreamers, the, wind, the, stars, and, the, sea, and, radical, dreamers, unstolen, jewel, translation, varies, this, music, is, perfect, if, you, ask, me, the, best, it, can, be, yasunori, mitsuda, just, poured, his, heart, on, and, wrote, it, down, on, paper]                                                                                                                                                                                                                                                                                                                                                                                                           |90    |\n",
      "|an absolute masterpiece: I am quite sure any of you actually taking the time to read this have played the game at least once, and heard at least a few of the tracks here. And whether you were aware of it or not, Mitsuda's music contributed greatly to the mood of every single minute of the whole game.Composed of 3 CDs and quite a few songs (I haven't an exact count), all of which are heart-rendering and impressively remarkable, this soundtrack is one I assure you you will not forget. It has everything for every listener -- from fast-paced and energetic (Dancing the Tokage or Termina Home), to slower and more haunting (Dragon God), to purely beautifully composed (Time's Scar), to even some fantastic vocals (Radical Dreamers).This is one of the best videogame soundtracks out there, and surely Mitsuda's best ever. ^_^|[an, absolute, masterpiece, i, am, quite, sure, any, of, you, actually, taking, the, time, to, read, this, have, played, the, game, at, least, once, and, heard, at, least, a, few, of, the, tracks, here, and, whether, you, were, aware, of, it, or, not, mitsuda, s, music, contributed, greatly, to, the, mood, of, every, single, minute, of, the, whole, game, composed, of, 3, cds, and, quite, a, few, songs, i, haven, t, an, exact, count, all, of, which, are, heart, rendering, and, impressively, remarkable, this, soundtrack, is, one, i, assure, you, you, will, not, forget, it, has, everything, for, every, listener, from, fast, paced, and, energetic, dancing, the, tokage, or, termina, home, to, slower, and, more, haunting, dragon, god, to, purely, beautifully, composed, time, s, scar, to, even, some, fantastic, vocals, radical, dreamers, this, is, one, of, the, best, videogame, soundtracks, out, there, and, surely, mitsuda, s, best, ever, _]|149   |\n",
      "|Buyer beware: This is a self-published book, and if you want to know why--read a few paragraphs! Those 5 star reviews must have been written by Ms. Haddon's family and friends--or perhaps, by herself! I can't imagine anyone reading the whole thing--I spent an evening with the book and a friend and we were in hysterics reading bits and pieces of it to one another. It is most definitely bad enough to be entered into some kind of a \"worst book\" contest. I can't believe Amazon even sells this kind of thing. Maybe I can offer them my 8th grade term paper on \"To Kill a Mockingbird\"--a book I am quite sure Ms. Haddon never heard of. Anyway, unless you are in a mood to send a book to someone as a joke---stay far, far away from this one!                                                                                       |[buyer, beware, this, is, a, self, published, book, and, if, you, want, to, know, why, read, a, few, paragraphs, those, 5, star, reviews, must, have, been, written, by, ms, haddon, s, family, and, friends, or, perhaps, by, herself, i, can, t, imagine, anyone, reading, the, whole, thing, i, spent, an, evening, with, the, book, and, a, friend, and, we, were, in, hysterics, reading, bits, and, pieces, of, it, to, one, another, it, is, most, definitely, bad, enough, to, be, entered, into, some, kind, of, a, worst, book, contest, i, can, t, believe, amazon, even, sells, this, kind, of, thing, maybe, i, can, offer, them, my, 8th, grade, term, paper, on, to, kill, a, mockingbird, a, book, i, am, quite, sure, ms, haddon, never, heard, of, anyway, unless, you, are, in, a, mood, to, send, a, book, to, someone, as, a, joke, stay, far, far, away, from, this, one]                                                                                     |148   |\n",
      "|Glorious story: I loved Whisper of the wicked saints. The story was amazing and I was pleasantly surprised at the changes in the book. I am not normaly someone who is into romance novels, but the world was raving about this book and so I bought it. I loved it !! This is a brilliant story because it is so true. This book was so wonderful that I have told all of my friends to read it. It is not a typical romance, it is so much more. Not reading this book is a crime, becuase you are missing out on a heart warming story.                                                                                                                                                                                                                                                                                                               |[glorious, story, i, loved, whisper, of, the, wicked, saints, the, story, was, amazing, and, i, was, pleasantly, surprised, at, the, changes, in, the, book, i, am, not, normaly, someone, who, is, into, romance, novels, but, the, world, was, raving, about, this, book, and, so, i, bought, it, i, loved, it, this, is, a, brilliant, story, because, it, is, so, true, this, book, was, so, wonderful, that, i, have, told, all, of, my, friends, to, read, it, it, is, not, a, typical, romance, it, is, so, much, more, not, reading, this, book, is, a, crime, becuase, you, are, missing, out, on, a, heart, warming, story]                                                                                                                                                                                                                                                                                                                                               |104   |\n",
      "|A FIVE STAR BOOK: I just finished reading Whisper of the Wicked saints. I fell in love with the caracters. I expected an average romance read, but instead I found one of my favorite books of all time. Just when I thought I could predict the outcome I was shocked ! The writting was so descriptive that my heart broke when Julia's did and I felt as if I was there with them instead of just a distant reader. If you are a lover of romance novels then this is a must read. Don't let the cover fool you this book is spectacular!                                                                                                                                                                                                                                                                                                             |[a, five, star, book, i, just, finished, reading, whisper, of, the, wicked, saints, i, fell, in, love, with, the, caracters, i, expected, an, average, romance, read, but, instead, i, found, one, of, my, favorite, books, of, all, time, just, when, i, thought, i, could, predict, the, outcome, i, was, shocked, the, writting, was, so, descriptive, that, my, heart, broke, when, julia, s, did, and, i, felt, as, if, i, was, there, with, them, instead, of, just, a, distant, reader, if, you, are, a, lover, of, romance, novels, then, this, is, a, must, read, don, t, let, the, cover, fool, you, this, book, is, spectacular]                                                                                                                                                                                                                                                                                                                                         |104   |\n",
      "|Whispers of the Wicked Saints: This was a easy to read book that made me want to keep reading on and on, not easy to put down.It left me wanting to read the follow on, which I hope is coming soon. I used to read a lot but have gotten away from it. This book made me want to read again. Very enjoyable.                                                                                                                                                                                                                                                                                                                                                                                                                                                                                                                                            |[whispers, of, the, wicked, saints, this, was, a, easy, to, read, book, that, made, me, want, to, keep, reading, on, and, on, not, easy, to, put, down, it, left, me, wanting, to, read, the, follow, on, which, i, hope, is, coming, soon, i, used, to, read, a, lot, but, have, gotten, away, from, it, this, book, made, me, want, to, read, again, very, enjoyable]                                                                                                                                                                                                                                                                                                                                                                                                                                                                                                                                                                                                             |64    |\n",
      "|The Worst!: A complete waste of time. Typographical errors, poor grammar, and a totally pathetic plot add up to absolutely nothing. I'm embarrassed for this author and very disappointed I actually paid for this book.                                                                                                                                                                                                                                                                                                                                                                                                                                                                                                                                                                                                                                 |[the, worst, a, complete, waste, of, time, typographical, errors, poor, grammar, and, a, totally, pathetic, plot, add, up, to, absolutely, nothing, i, m, embarrassed, for, this, author, and, very, disappointed, i, actually, paid, for, this, book]                                                                                                                                                                                                                                                                                                                                                                                                                                                                                                                                                                                                                                                                                                                              |36    |\n",
      "|Great book: This was a great book,I just could not put it down,and could not read it fast enough. Boy what a book the twist and turns in this just keeps you guessing and wanting to know what is going to happen next. This book makes you fall in love and can heat you up,it can also make you so angery. this book can make you go throu several of your emotions. This is a quick read romance. It is something that you will want to end your day off with if you read at night.                                                                                                                                                                                                                                                                                                                                                                   |[great, book, this, was, a, great, book, i, just, could, not, put, it, down, and, could, not, read, it, fast, enough, boy, what, a, book, the, twist, and, turns, in, this, just, keeps, you, guessing, and, wanting, to, know, what, is, going, to, happen, next, this, book, makes, you, fall, in, love, and, can, heat, you, up, it, can, also, make, you, so, angery, this, book, can, make, you, go, throu, several, of, your, emotions, this, is, a, quick, read, romance, it, is, something, that, you, will, want, to, end, your, day, off, with, if, you, read, at, night]                                                                                                                                                                                                                                                                                                                                                                                                 |99    |\n",
      "|Great Read: I thought this book was brilliant, but yet realistic. It showed me that to error is human. I loved the fact that this writer showed the loving side of God and not the revengeful side of him. I loved how it twisted and turned and I could not put it down. I also loved The glass castle.                                                                                                                                                                                                                                                                                                                                                                                                                                                                                                                                                 |[great, read, i, thought, this, book, was, brilliant, but, yet, realistic, it, showed, me, that, to, error, is, human, i, loved, the, fact, that, this, writer, showed, the, loving, side, of, god, and, not, the, revengeful, side, of, him, i, loved, how, it, twisted, and, turned, and, i, could, not, put, it, down, i, also, loved, the, glass, castle]                                                                                                                                                                                                                                                                                                                                                                                                                                                                                                                                                                                                                       |59    |\n",
      "|Oh please: I guess you have to be a romance novel lover for this one, and not a very discerning one. All others beware! It is absolute drivel. I figured I was in trouble when a typo is prominently featured on the back cover, but the first page of the book removed all doubt. Wait - maybe I'm missing the point. A quick re-read of the beginning now makes it clear. This has to be an intentional churning of over-heated prose for satiric purposes. Phew, so glad I didn't waste $10.95 after all.                                                                                                                                                                                                                                                                                                                                             |[oh, please, i, guess, you, have, to, be, a, romance, novel, lover, for, this, one, and, not, a, very, discerning, one, all, others, beware, it, is, absolute, drivel, i, figured, i, was, in, trouble, when, a, typo, is, prominently, featured, on, the, back, cover, but, the, first, page, of, the, book, removed, all, doubt, wait, maybe, i, m, missing, the, point, a, quick, re, read, of, the, beginning, now, makes, it, clear, this, has, to, be, an, intentional, churning, of, over, heated, prose, for, satiric, purposes, phew, so, glad, i, didn, t, waste, 10, 95, after, all]                                                                                                                                                                                                                                                                                                                                                                                     |97    |\n",
      "|Awful beyond belief!: I feel I have to write to keep others from wasting their money. This book seems to have been written by a 7th grader with poor grammatical skills for her age! As another reviewer points out, there is a misspelling on the cover, and I believe there is at least one per chapter. For example, it was mentioned twice that she had a \"lean\" on her house. I was so distracted by the poor writing and weak plot, that I decided to read with a pencil in hand to mark all of the horrible grammar and spelling. Please don't waste your money. I too, believe that the good reviews must have been written by the author's relatives. I will not put much faith in the reviews from now on!                                                                                                                                     |[awful, beyond, belief, i, feel, i, have, to, write, to, keep, others, from, wasting, their, money, this, book, seems, to, have, been, written, by, a, 7th, grader, with, poor, grammatical, skills, for, her, age, as, another, reviewer, points, out, there, is, a, misspelling, on, the, cover, and, i, believe, there, is, at, least, one, per, chapter, for, example, it, was, mentioned, twice, that, she, had, a, lean, on, her, house, i, was, so, distracted, by, the, poor, writing, and, weak, plot, that, i, decided, to, read, with, a, pencil, in, hand, to, mark, all, of, the, horrible, grammar, and, spelling, please, don, t, waste, your, money, i, too, believe, that, the, good, reviews, must, have, been, written, by, the, author, s, relatives, i, will, not, put, much, faith, in, the, reviews, from, now, on]                                                                                                                                          |134   |\n",
      "|Don't try to fool us with fake reviews.: It's glaringly obvious that all of the glowing reviews have been written by the same person, perhaps the author herself. They all have the same misspellings and poor sentence structure that is featured in the book. Who made Veronica Haddon think she is an author?                                                                                                                                                                                                                                                                                                                                                                                                                                                                                                                                         |[don, t, try, to, fool, us, with, fake, reviews, it, s, glaringly, obvious, that, all, of, the, glowing, reviews, have, been, written, by, the, same, person, perhaps, the, author, herself, they, all, have, the, same, misspellings, and, poor, sentence, structure, that, is, featured, in, the, book, who, made, veronica, haddon, think, she, is, an, author]                                                                                                                                                                                                                                                                                                                                                                                                                                                                                                                                                                                                                  |55    |\n",
      "|A romantic zen baseball comedy: When you hear folks say that they don't make 'em like that anymore, they might be talking about \"BY THE SEA\". This is a very cool story about a young Cuban girl searching for idenity who stumbles into a coastal resort kitchen gig with a zen motorcycle maintenance man, three hysterical Italian chefs and a Latino fireballing right handed pitcher who plays on the team sponsored by the resort's owner. As is often the case she 'finds' herself through honest, often comical but always emotional, interaction with this sizzling roster of players. With the perfect mix of special effects, that salsa sound and flashbacks, BY THE SEA, gets 4 BIG stars from me!                                                                                                                                          |[a, romantic, zen, baseball, comedy, when, you, hear, folks, say, that, they, don, t, make, em, like, that, anymore, they, might, be, talking, about, by, the, sea, this, is, a, very, cool, story, about, a, young, cuban, girl, searching, for, idenity, who, stumbles, into, a, coastal, resort, kitchen, gig, with, a, zen, motorcycle, maintenance, man, three, hysterical, italian, chefs, and, a, latino, fireballing, right, handed, pitcher, who, plays, on, the, team, sponsored, by, the, resort, s, owner, as, is, often, the, case, she, finds, herself, through, honest, often, comical, but, always, emotional, interaction, with, this, sizzling, roster, of, players, with, the, perfect, mix, of, special, effects, that, salsa, sound, and, flashbacks, by, the, sea, gets, 4, big, stars, from, me]                                                                                                                                                             |120   |\n",
      "|Fashionable Compression Stockings!: After I had a DVT my doctor required me to wear compression stockings. I wore ugly white TED hose and yucky thick brown stockings. Then I found Jobst UltraSheer. They gave me the compression I needed (15-20,) but looked like regular pantyhose. Even though my blood clot has been gone for 4 years, I still buy these to wear as support stockings because they make my legs feel so nice.**Note, I have problems with the rubberized tops rolling down my thigh. I tried the Jobst adhesive, but I hated having my skin pulled all day. I bought an inexpensive garter belt and it works fine and helps keep the stockings from rolling.                                                                                                                                                                       |[fashionable, compression, stockings, after, i, had, a, dvt, my, doctor, required, me, to, wear, compression, stockings, i, wore, ugly, white, ted, hose, and, yucky, thick, brown, stockings, then, i, found, jobst, ultrasheer, they, gave, me, the, compression, i, needed, 15, 20, but, looked, like, regular, pantyhose, even, though, my, blood, clot, has, been, gone, for, 4, years, i, still, buy, these, to, wear, as, support, stockings, because, they, make, my, legs, feel, so, nice, note, i, have, problems, with, the, rubberized, tops, rolling, down, my, thigh, i, tried, the, jobst, adhesive, but, i, hated, having, my, skin, pulled, all, day, i, bought, an, inexpensive, garter, belt, and, it, works, fine, and, helps, keep, the, stockings, from, rolling]                                                                                                                                                                                             |117   |\n",
      "|Jobst UltraSheer Thigh High: Excellent product. However, they are very difficult to get on for older people. I feel like I've had a full day workout after getting them on. Also, as the day wears on, they begin to roll down from the top and create a very deep ridge in the skin. I have to wear them, so if those two difficulties could be addressed it would be such a help.                                                                                                                                                                                                                                                                                                                                                                                                                                                                      |[jobst, ultrasheer, thigh, high, excellent, product, however, they, are, very, difficult, to, get, on, for, older, people, i, feel, like, i, ve, had, a, full, day, workout, after, getting, them, on, also, as, the, day, wears, on, they, begin, to, roll, down, from, the, top, and, create, a, very, deep, ridge, in, the, skin, i, have, to, wear, them, so, if, those, two, difficulties, could, be, addressed, it, would, be, such, a, help]                                                                                                                                                                                                                                                                                                                                                                                                                                                                                                                                 |73    |\n",
      "|sizes recomended in the size chart are not real: sizes are much smaller than what is recomended in the chart. I tried to put it and sheer it!. I guess you should not buy this item in the internet..it is better to go to the store and check it                                                                                                                                                                                                                                                                                                                                                                                                                                                                                                                                                                                                        |[sizes, recomended, in, the, size, chart, are, not, real, sizes, are, much, smaller, than, what, is, recomended, in, the, chart, i, tried, to, put, it, and, sheer, it, i, guess, you, should, not, buy, this, item, in, the, internet, it, is, better, to, go, to, the, store, and, check, it]                                                                                                                                                                                                                                                                                                                                                                                                                                                                                                                                                                                                                                                                                     |50    |\n",
      "+---------------------------------------------------------------------------------------------------------------------------------------------------------------------------------------------------------------------------------------------------------------------------------------------------------------------------------------------------------------------------------------------------------------------------------------------------------------------------------------------------------------------------------------------------------------------------------------------------------------------------------------------------------------------------------------------------------------------------------------------------------------------------------------------------------------------------------------------------------+------------------------------------------------------------------------------------------------------------------------------------------------------------------------------------------------------------------------------------------------------------------------------------------------------------------------------------------------------------------------------------------------------------------------------------------------------------------------------------------------------------------------------------------------------------------------------------------------------------------------------------------------------------------------------------------------------------------------------------------------------------------------------------------------------------------------------------------------------------------------------------------------------------------------------------------------------------------------------------+------+\n",
      "only showing top 20 rows"
     ]
    }
   ],
   "source": [
    "regexTokenized = regexTokenizer.transform(df2)\n",
    "regexTokenized.select(\"reviewText\", \"words\") \\\n",
    "    .withColumn(\"tokens\", countTokens(col(\"words\"))).show(truncate=False)\n",
    "\n"
   ]
  },
  {
   "cell_type": "code",
   "execution_count": 11,
   "metadata": {},
   "outputs": [
    {
     "data": {
      "application/vnd.jupyter.widget-view+json": {
       "model_id": "1df7f46827b44fe785eda37a1aa7d1e3",
       "version_major": 2,
       "version_minor": 0
      },
      "text/plain": [
       "VBox()"
      ]
     },
     "metadata": {},
     "output_type": "display_data"
    },
    {
     "data": {
      "application/vnd.jupyter.widget-view+json": {
       "model_id": "",
       "version_major": 2,
       "version_minor": 0
      },
      "text/plain": [
       "FloatProgress(value=0.0, bar_style='info', description='Progress:', layout=Layout(height='25px', width='50%'),…"
      ]
     },
     "metadata": {},
     "output_type": "display_data"
    },
    {
     "name": "stdout",
     "output_type": "stream",
     "text": [
      "+--------------------+-----+--------------------+\n",
      "|          reviewText|label|               words|\n",
      "+--------------------+-----+--------------------+\n",
      "|Stuning even for ...|    2|[stuning, even, f...|\n",
      "|The best soundtra...|    2|[the, best, sound...|\n",
      "|Amazing!: This so...|    2|[amazing, this, s...|\n",
      "|Excellent Soundtr...|    2|[excellent, sound...|\n",
      "|Remember, Pull Yo...|    2|[remember, pull, ...|\n",
      "|an absolute maste...|    2|[an, absolute, ma...|\n",
      "|Buyer beware: Thi...|    1|[buyer, beware, t...|\n",
      "|Glorious story: I...|    2|[glorious, story,...|\n",
      "|A FIVE STAR BOOK:...|    2|[a, five, star, b...|\n",
      "|Whispers of the W...|    2|[whispers, of, th...|\n",
      "|The Worst!: A com...|    1|[the, worst, a, c...|\n",
      "|Great book: This ...|    2|[great, book, thi...|\n",
      "|Great Read: I tho...|    2|[great, read, i, ...|\n",
      "|Oh please: I gues...|    1|[oh, please, i, g...|\n",
      "|Awful beyond beli...|    1|[awful, beyond, b...|\n",
      "|Don't try to fool...|    1|[don, t, try, to,...|\n",
      "|A romantic zen ba...|    2|[a, romantic, zen...|\n",
      "|Fashionable Compr...|    2|[fashionable, com...|\n",
      "|Jobst UltraSheer ...|    2|[jobst, ultrashee...|\n",
      "|sizes recomended ...|    1|[sizes, recomende...|\n",
      "+--------------------+-----+--------------------+\n",
      "only showing top 20 rows"
     ]
    }
   ],
   "source": [
    "regexTokenized.show(20)"
   ]
  },
  {
   "cell_type": "code",
   "execution_count": 12,
   "metadata": {},
   "outputs": [
    {
     "data": {
      "application/vnd.jupyter.widget-view+json": {
       "model_id": "a125cb3ea1914470a2db25a56c459d50",
       "version_major": 2,
       "version_minor": 0
      },
      "text/plain": [
       "VBox()"
      ]
     },
     "metadata": {},
     "output_type": "display_data"
    },
    {
     "data": {
      "application/vnd.jupyter.widget-view+json": {
       "model_id": "",
       "version_major": 2,
       "version_minor": 0
      },
      "text/plain": [
       "FloatProgress(value=0.0, bar_style='info', description='Progress:', layout=Layout(height='25px', width='50%'),…"
      ]
     },
     "metadata": {},
     "output_type": "display_data"
    }
   ],
   "source": [
    "htf = HashingTF(inputCol=\"words\", outputCol=\"features\")\n",
    "tf = htf.transform(regexTokenized)\n",
    "train = tf[[\"label\",\"features\"]]"
   ]
  },
  {
   "cell_type": "code",
   "execution_count": 13,
   "metadata": {},
   "outputs": [
    {
     "data": {
      "application/vnd.jupyter.widget-view+json": {
       "model_id": "bff4d2c85790485ba7c4e8155a7076fa",
       "version_major": 2,
       "version_minor": 0
      },
      "text/plain": [
       "VBox()"
      ]
     },
     "metadata": {},
     "output_type": "display_data"
    },
    {
     "data": {
      "application/vnd.jupyter.widget-view+json": {
       "model_id": "",
       "version_major": 2,
       "version_minor": 0
      },
      "text/plain": [
       "FloatProgress(value=0.0, bar_style='info', description='Progress:', layout=Layout(height='25px', width='50%'),…"
      ]
     },
     "metadata": {},
     "output_type": "display_data"
    },
    {
     "name": "stdout",
     "output_type": "stream",
     "text": [
      "[StringType, StringType]"
     ]
    }
   ],
   "source": [
    "\n",
    "types = [f.dataType for f in df2.schema.fields]\n",
    "types"
   ]
  },
  {
   "cell_type": "code",
   "execution_count": 14,
   "metadata": {},
   "outputs": [
    {
     "data": {
      "application/vnd.jupyter.widget-view+json": {
       "model_id": "edc39be593314d23adfa9592864f9db9",
       "version_major": 2,
       "version_minor": 0
      },
      "text/plain": [
       "VBox()"
      ]
     },
     "metadata": {},
     "output_type": "display_data"
    },
    {
     "data": {
      "application/vnd.jupyter.widget-view+json": {
       "model_id": "",
       "version_major": 2,
       "version_minor": 0
      },
      "text/plain": [
       "FloatProgress(value=0.0, bar_style='info', description='Progress:', layout=Layout(height='25px', width='50%'),…"
      ]
     },
     "metadata": {},
     "output_type": "display_data"
    },
    {
     "name": "stdout",
     "output_type": "stream",
     "text": [
      "[DoubleType, VectorUDT]"
     ]
    }
   ],
   "source": [
    "\n",
    "train2 = train.withColumn(\"label\",train[\"label\"].cast(DoubleType()))\n",
    "types = [f.dataType for f in train2.schema.fields]\n",
    "types"
   ]
  },
  {
   "cell_type": "code",
   "execution_count": 15,
   "metadata": {},
   "outputs": [
    {
     "data": {
      "application/vnd.jupyter.widget-view+json": {
       "model_id": "32fff07247ea4fc79c776a450437a714",
       "version_major": 2,
       "version_minor": 0
      },
      "text/plain": [
       "VBox()"
      ]
     },
     "metadata": {},
     "output_type": "display_data"
    },
    {
     "data": {
      "application/vnd.jupyter.widget-view+json": {
       "model_id": "",
       "version_major": 2,
       "version_minor": 0
      },
      "text/plain": [
       "FloatProgress(value=0.0, bar_style='info', description='Progress:', layout=Layout(height='25px', width='50%'),…"
      ]
     },
     "metadata": {},
     "output_type": "display_data"
    }
   ],
   "source": [
    "\n",
    "lr = LogisticRegression(maxIter=10, regParam=0.3, elasticNetParam=0.8)\n",
    "pipeline = Pipeline(stages=[lr])\n",
    "model = pipeline.fit(train2)"
   ]
  },
  {
   "cell_type": "code",
   "execution_count": 16,
   "metadata": {},
   "outputs": [
    {
     "data": {
      "application/vnd.jupyter.widget-view+json": {
       "model_id": "574c8effdc0b4291a295bc6db994e33c",
       "version_major": 2,
       "version_minor": 0
      },
      "text/plain": [
       "VBox()"
      ]
     },
     "metadata": {},
     "output_type": "display_data"
    },
    {
     "data": {
      "application/vnd.jupyter.widget-view+json": {
       "model_id": "",
       "version_major": 2,
       "version_minor": 0
      },
      "text/plain": [
       "FloatProgress(value=0.0, bar_style='info', description='Progress:', layout=Layout(height='25px', width='50%'),…"
      ]
     },
     "metadata": {},
     "output_type": "display_data"
    }
   ],
   "source": [
    "rdd1_test = sc.textFile(\"s3://akshaycl201/test.txt\")"
   ]
  },
  {
   "cell_type": "code",
   "execution_count": 17,
   "metadata": {},
   "outputs": [
    {
     "data": {
      "application/vnd.jupyter.widget-view+json": {
       "model_id": "5262ffdf2bca4918b8ed7ae50301282c",
       "version_major": 2,
       "version_minor": 0
      },
      "text/plain": [
       "VBox()"
      ]
     },
     "metadata": {},
     "output_type": "display_data"
    },
    {
     "data": {
      "application/vnd.jupyter.widget-view+json": {
       "model_id": "",
       "version_major": 2,
       "version_minor": 0
      },
      "text/plain": [
       "FloatProgress(value=0.0, bar_style='info', description='Progress:', layout=Layout(height='25px', width='50%'),…"
      ]
     },
     "metadata": {},
     "output_type": "display_data"
    }
   ],
   "source": [
    "rdd1_1_test=rdd1_test.map(lambda x: x.replace(\"__label__2\",\"2\"))\n",
    "rdd1_2_test=rdd1_1_test.map(lambda x: x.replace(\"__label__1\",\"1\"))\n",
    "rdd2_test = rdd1_2_test.map(lambda x: x.split(\" \",1))"
   ]
  },
  {
   "cell_type": "code",
   "execution_count": 18,
   "metadata": {},
   "outputs": [
    {
     "data": {
      "application/vnd.jupyter.widget-view+json": {
       "model_id": "583b58c521cf466eaf8f506217bc2f65",
       "version_major": 2,
       "version_minor": 0
      },
      "text/plain": [
       "VBox()"
      ]
     },
     "metadata": {},
     "output_type": "display_data"
    },
    {
     "data": {
      "application/vnd.jupyter.widget-view+json": {
       "model_id": "",
       "version_major": 2,
       "version_minor": 0
      },
      "text/plain": [
       "FloatProgress(value=0.0, bar_style='info', description='Progress:', layout=Layout(height='25px', width='50%'),…"
      ]
     },
     "metadata": {},
     "output_type": "display_data"
    }
   ],
   "source": [
    "rdd3_test = rdd2_test.map(lambda x: Row(label=x[0],reviewText=x[1]))"
   ]
  },
  {
   "cell_type": "code",
   "execution_count": 19,
   "metadata": {},
   "outputs": [
    {
     "data": {
      "application/vnd.jupyter.widget-view+json": {
       "model_id": "a0afbf24726646609161019a3b53ac5f",
       "version_major": 2,
       "version_minor": 0
      },
      "text/plain": [
       "VBox()"
      ]
     },
     "metadata": {},
     "output_type": "display_data"
    },
    {
     "data": {
      "application/vnd.jupyter.widget-view+json": {
       "model_id": "",
       "version_major": 2,
       "version_minor": 0
      },
      "text/plain": [
       "FloatProgress(value=0.0, bar_style='info', description='Progress:', layout=Layout(height='25px', width='50%'),…"
      ]
     },
     "metadata": {},
     "output_type": "display_data"
    }
   ],
   "source": [
    "df_test=sqlContext.createDataFrame(rdd3_test)\n",
    "# Registers this DataFrame as a temporary table using the given name\n",
    "df_test.registerTempTable(\"df_test\")\n",
    "\n",
    "df_test = df_test.withColumn(\"label\", df_test.label)"
   ]
  },
  {
   "cell_type": "code",
   "execution_count": 20,
   "metadata": {},
   "outputs": [
    {
     "data": {
      "application/vnd.jupyter.widget-view+json": {
       "model_id": "21b653189b7f478492a214d47fd937ef",
       "version_major": 2,
       "version_minor": 0
      },
      "text/plain": [
       "VBox()"
      ]
     },
     "metadata": {},
     "output_type": "display_data"
    },
    {
     "data": {
      "application/vnd.jupyter.widget-view+json": {
       "model_id": "",
       "version_major": 2,
       "version_minor": 0
      },
      "text/plain": [
       "FloatProgress(value=0.0, bar_style='info', description='Progress:', layout=Layout(height='25px', width='50%'),…"
      ]
     },
     "metadata": {},
     "output_type": "display_data"
    },
    {
     "name": "stdout",
     "output_type": "stream",
     "text": [
      "+--------------------+-----+\n",
      "|          reviewText|label|\n",
      "+--------------------+-----+\n",
      "|Great CD: My love...|    2|\n",
      "|One of the best g...|    2|\n",
      "|Batteries died wi...|    1|\n",
      "|works fine, but M...|    2|\n",
      "|Great for the non...|    2|\n",
      "+--------------------+-----+\n",
      "only showing top 5 rows"
     ]
    }
   ],
   "source": [
    "sqlContext.registerDataFrameAsTable(df_test, \"table2\")\n",
    "df2_test = sqlContext.sql(\"SELECT reviewText, label from table2 WHERE reviewText != ''\")\n",
    "\n",
    "df2_test.show(5)"
   ]
  },
  {
   "cell_type": "code",
   "execution_count": 21,
   "metadata": {},
   "outputs": [
    {
     "data": {
      "application/vnd.jupyter.widget-view+json": {
       "model_id": "4c5a39bf64fa4bce97baa45218073e1b",
       "version_major": 2,
       "version_minor": 0
      },
      "text/plain": [
       "VBox()"
      ]
     },
     "metadata": {},
     "output_type": "display_data"
    },
    {
     "data": {
      "application/vnd.jupyter.widget-view+json": {
       "model_id": "",
       "version_major": 2,
       "version_minor": 0
      },
      "text/plain": [
       "FloatProgress(value=0.0, bar_style='info', description='Progress:', layout=Layout(height='25px', width='50%'),…"
      ]
     },
     "metadata": {},
     "output_type": "display_data"
    }
   ],
   "source": [
    "regexTokenized_test= regexTokenizer.transform(df2_test)\n"
   ]
  },
  {
   "cell_type": "code",
   "execution_count": 22,
   "metadata": {},
   "outputs": [
    {
     "data": {
      "application/vnd.jupyter.widget-view+json": {
       "model_id": "a0a00b78144149b7a52a23fbfb06018a",
       "version_major": 2,
       "version_minor": 0
      },
      "text/plain": [
       "VBox()"
      ]
     },
     "metadata": {},
     "output_type": "display_data"
    },
    {
     "data": {
      "application/vnd.jupyter.widget-view+json": {
       "model_id": "",
       "version_major": 2,
       "version_minor": 0
      },
      "text/plain": [
       "FloatProgress(value=0.0, bar_style='info', description='Progress:', layout=Layout(height='25px', width='50%'),…"
      ]
     },
     "metadata": {},
     "output_type": "display_data"
    },
    {
     "name": "stdout",
     "output_type": "stream",
     "text": [
      "+-----------------------------------------------------------------------------------------------------------------------------------------------------------------------------------------------------------------------------------------------------------------------------------------------------------------------------------------------------------------------------------------------------------------------------------------------------------------------------------------------------------------------------------------------------------------------------------------------------------------------------------------------------------------------------------------------------------------------------------------------------------------------------------------------------------------------------------------------------------------------------------------------------------------+--------------------------------------------------------------------------------------------------------------------------------------------------------------------------------------------------------------------------------------------------------------------------------------------------------------------------------------------------------------------------------------------------------------------------------------------------------------------------------------------------------------------------------------------------------------------------------------------------------------------------------------------------------------------------------------------------------------------------------------------------------------------------------------------------------------------------------------------------------------------------------------------------------------------------------------------------------------------------------------------------------------------------------------------------+------+\n",
      "|reviewText                                                                                                                                                                                                                                                                                                                                                                                                                                                                                                                                                                                                                                                                                                                                                                                                                                                                                                       |words                                                                                                                                                                                                                                                                                                                                                                                                                                                                                                                                                                                                                                                                                                                                                                                                                                                                                                                                                                                                                                             |tokens|\n",
      "+-----------------------------------------------------------------------------------------------------------------------------------------------------------------------------------------------------------------------------------------------------------------------------------------------------------------------------------------------------------------------------------------------------------------------------------------------------------------------------------------------------------------------------------------------------------------------------------------------------------------------------------------------------------------------------------------------------------------------------------------------------------------------------------------------------------------------------------------------------------------------------------------------------------------+--------------------------------------------------------------------------------------------------------------------------------------------------------------------------------------------------------------------------------------------------------------------------------------------------------------------------------------------------------------------------------------------------------------------------------------------------------------------------------------------------------------------------------------------------------------------------------------------------------------------------------------------------------------------------------------------------------------------------------------------------------------------------------------------------------------------------------------------------------------------------------------------------------------------------------------------------------------------------------------------------------------------------------------------------+------+\n",
      "|Great CD: My lovely Pat has one of the GREAT voices of her generation. I have listened to this CD for YEARS and I still LOVE IT. When I'm in a good mood it makes me feel better. A bad mood just evaporates like sugar in the rain. This CD just oozes LIFE. Vocals are jusat STUUNNING and lyrics just kill. One of life's hidden gems. This is a desert isle CD in my book. Why she never made it big is just beyond me. Everytime I play this, no matter black, white, young, old, male, female EVERYBODY says one thing \"Who was that singing ?\"                                                                                                                                                                                                                                                                                                                                                            |[great, cd, my, lovely, pat, has, one, of, the, great, voices, of, her, generation, i, have, listened, to, this, cd, for, years, and, i, still, love, it, when, i, m, in, a, good, mood, it, makes, me, feel, better, a, bad, mood, just, evaporates, like, sugar, in, the, rain, this, cd, just, oozes, life, vocals, are, jusat, stuunning, and, lyrics, just, kill, one, of, life, s, hidden, gems, this, is, a, desert, isle, cd, in, my, book, why, she, never, made, it, big, is, just, beyond, me, everytime, i, play, this, no, matter, black, white, young, old, male, female, everybody, says, one, thing, who, was, that, singing]                                                                                                                                                                                                                                                                                                                                                                                                     |107   |\n",
      "|One of the best game music soundtracks - for a game I didn't really play: Despite the fact that I have only played a small portion of the game, the music I heard (plus the connection to Chrono Trigger which was great as well) led me to purchase the soundtrack, and it remains one of my favorite albums. There is an incredible mix of fun, epic, and emotional songs. Those sad and beautiful tracks I especially like, as there's not too many of those kinds of songs in my other video game soundtracks. I must admit that one of the songs (Life-A Distant Promise) has brought tears to my eyes on many occasions.My one complaint about this soundtrack is that they use guitar fretting effects in many of the songs, which I find distracting. But even if those weren't included I would still consider the collection worth it.                                                                 |[one, of, the, best, game, music, soundtracks, for, a, game, i, didn, t, really, play, despite, the, fact, that, i, have, only, played, a, small, portion, of, the, game, the, music, i, heard, plus, the, connection, to, chrono, trigger, which, was, great, as, well, led, me, to, purchase, the, soundtrack, and, it, remains, one, of, my, favorite, albums, there, is, an, incredible, mix, of, fun, epic, and, emotional, songs, those, sad, and, beautiful, tracks, i, especially, like, as, there, s, not, too, many, of, those, kinds, of, songs, in, my, other, video, game, soundtracks, i, must, admit, that, one, of, the, songs, life, a, distant, promise, has, brought, tears, to, my, eyes, on, many, occasions, my, one, complaint, about, this, soundtrack, is, that, they, use, guitar, fretting, effects, in, many, of, the, songs, which, i, find, distracting, but, even, if, those, weren, t, included, i, would, still, consider, the, collection, worth, it]                                                           |152   |\n",
      "|Batteries died within a year ...: I bought this charger in Jul 2003 and it worked OK for a while. The design is nice and convenient. However, after about a year, the batteries would not hold a charge. Might as well just get alkaline disposables, or look elsewhere for a charger that comes with batteries that have better staying power.                                                                                                                                                                                                                                                                                                                                                                                                                                                                                                                                                                  |[batteries, died, within, a, year, i, bought, this, charger, in, jul, 2003, and, it, worked, ok, for, a, while, the, design, is, nice, and, convenient, however, after, about, a, year, the, batteries, would, not, hold, a, charge, might, as, well, just, get, alkaline, disposables, or, look, elsewhere, for, a, charger, that, comes, with, batteries, that, have, better, staying, power]                                                                                                                                                                                                                                                                                                                                                                                                                                                                                                                                                                                                                                                   |59    |\n",
      "|works fine, but Maha Energy is better: Check out Maha Energy's website. Their Powerex MH-C204F charger works in 100 minutes for rapid charge, with option for slower charge (better for batteries). And they have 2200 mAh batteries.                                                                                                                                                                                                                                                                                                                                                                                                                                                                                                                                                                                                                                                                            |[works, fine, but, maha, energy, is, better, check, out, maha, energy, s, website, their, powerex, mh, c204f, charger, works, in, 100, minutes, for, rapid, charge, with, option, for, slower, charge, better, for, batteries, and, they, have, 2200, mah, batteries]                                                                                                                                                                                                                                                                                                                                                                                                                                                                                                                                                                                                                                                                                                                                                                             |39    |\n",
      "|Great for the non-audiophile: Reviewed quite a bit of the combo players and was hesitant due to unfavorable reviews and size of machines. I am weaning off my VHS collection, but don't want to replace them with DVD's. This unit is well built, easy to setup and resolution and special effects (no progressive scan for HDTV owners) suitable for many people looking for a versatile product.Cons- No universal remote.                                                                                                                                                                                                                                                                                                                                                                                                                                                                                     |[great, for, the, non, audiophile, reviewed, quite, a, bit, of, the, combo, players, and, was, hesitant, due, to, unfavorable, reviews, and, size, of, machines, i, am, weaning, off, my, vhs, collection, but, don, t, want, to, replace, them, with, dvd, s, this, unit, is, well, built, easy, to, setup, and, resolution, and, special, effects, no, progressive, scan, for, hdtv, owners, suitable, for, many, people, looking, for, a, versatile, product, cons, no, universal, remote]                                                                                                                                                                                                                                                                                                                                                                                                                                                                                                                                                     |73    |\n",
      "|DVD Player crapped out after one year: I also began having the incorrect disc problems that I've read about on here. The VCR still works, but hte DVD side is useless. I understand that DVD players sometimes just quit on you, but after not even one year? To me that's a sign on bad quality. I'm giving up JVC after this as well. I'm sticking to Sony or giving another brand a shot.                                                                                                                                                                                                                                                                                                                                                                                                                                                                                                                     |[dvd, player, crapped, out, after, one, year, i, also, began, having, the, incorrect, disc, problems, that, i, ve, read, about, on, here, the, vcr, still, works, but, hte, dvd, side, is, useless, i, understand, that, dvd, players, sometimes, just, quit, on, you, but, after, not, even, one, year, to, me, that, s, a, sign, on, bad, quality, i, m, giving, up, jvc, after, this, as, well, i, m, sticking, to, sony, or, giving, another, brand, a, shot]                                                                                                                                                                                                                                                                                                                                                                                                                                                                                                                                                                                 |77    |\n",
      "|Incorrect Disc: I love the style of this, but after a couple years, the DVD is giving me problems. It doesn't even work anymore and I use my broken PS2 Now. I wouldn't recommend this, I'm just going to upgrade to a recorder now. I wish it would work but I guess i'm giving up on JVC. I really did like this one... before it stopped working. The dvd player gave me problems probably after a year of having it.                                                                                                                                                                                                                                                                                                                                                                                                                                                                                         |[incorrect, disc, i, love, the, style, of, this, but, after, a, couple, years, the, dvd, is, giving, me, problems, it, doesn, t, even, work, anymore, and, i, use, my, broken, ps2, now, i, wouldn, t, recommend, this, i, m, just, going, to, upgrade, to, a, recorder, now, i, wish, it, would, work, but, i, guess, i, m, giving, up, on, jvc, i, really, did, like, this, one, before, it, stopped, working, the, dvd, player, gave, me, problems, probably, after, a, year, of, having, it]                                                                                                                                                                                                                                                                                                                                                                                                                                                                                                                                                  |84    |\n",
      "|DVD menu select problems: I cannot scroll through a DVD menu that is set up vertically. The triangle keys will only select horizontally. So I cannot select anything on most DVD's besides play. No special features, no language select, nothing, just play.                                                                                                                                                                                                                                                                                                                                                                                                                                                                                                                                                                                                                                                    |[dvd, menu, select, problems, i, cannot, scroll, through, a, dvd, menu, that, is, set, up, vertically, the, triangle, keys, will, only, select, horizontally, so, i, cannot, select, anything, on, most, dvd, s, besides, play, no, special, features, no, language, select, nothing, just, play]                                                                                                                                                                                                                                                                                                                                                                                                                                                                                                                                                                                                                                                                                                                                                 |43    |\n",
      "|Unique Weird Orientalia from the 1930's: Exotic tales of the Orient from the 1930's. \"Dr Shen Fu\", a Weird Tales magazine reprint, is about the elixir of life that grants immortality at a price. If you're tired of modern authors who all sound alike, this is the antidote for you. Owen's palette is loaded with splashes of Chinese and Japanese colours. Marvelous.                                                                                                                                                                                                                                                                                                                                                                                                                                                                                                                                       |[unique, weird, orientalia, from, the, 1930, s, exotic, tales, of, the, orient, from, the, 1930, s, dr, shen, fu, a, weird, tales, magazine, reprint, is, about, the, elixir, of, life, that, grants, immortality, at, a, price, if, you, re, tired, of, modern, authors, who, all, sound, alike, this, is, the, antidote, for, you, owen, s, palette, is, loaded, with, splashes, of, chinese, and, japanese, colours, marvelous]                                                                                                                                                                                                                                                                                                                                                                                                                                                                                                                                                                                                                |66    |\n",
      "|Not an \"ultimate guide\": Firstly,I enjoyed the format and tone of the book (how the author addressed the reader). However, I did not feel that she imparted any insider secrets that the book promised to reveal. If you are just starting to research law school, and do not know all the requirements of admission, then this book may be a tremendous help. If you have done your homework and are looking for an edge when it comes to admissions, I recommend some more topic-specific books. For example, books on how to write your personal statment, books geared specifically towards LSAT preparation (Powerscore books were the most helpful for me), and there are some websites with great advice geared towards aiding the individuals whom you are asking to write letters of recommendation. Yet, for those new to the entire affair, this book can definitely clarify the requirements for you.|[not, an, ultimate, guide, firstly, i, enjoyed, the, format, and, tone, of, the, book, how, the, author, addressed, the, reader, however, i, did, not, feel, that, she, imparted, any, insider, secrets, that, the, book, promised, to, reveal, if, you, are, just, starting, to, research, law, school, and, do, not, know, all, the, requirements, of, admission, then, this, book, may, be, a, tremendous, help, if, you, have, done, your, homework, and, are, looking, for, an, edge, when, it, comes, to, admissions, i, recommend, some, more, topic, specific, books, for, example, books, on, how, to, write, your, personal, statment, books, geared, specifically, towards, lsat, preparation, powerscore, books, were, the, most, helpful, for, me, and, there, are, some, websites, with, great, advice, geared, towards, aiding, the, individuals, whom, you, are, asking, to, write, letters, of, recommendation, yet, for, those, new, to, the, entire, affair, this, book, can, definitely, clarify, the, requirements, for, you]|150   |\n",
      "|Great book for travelling Europe: I currently live in Europe, and this is the book I recommend for my visitors. It covers many countries, colour pictures, and is a nice starter for before you go, and once you are there.                                                                                                                                                                                                                                                                                                                                                                                                                                                                                                                                                                                                                                                                                      |[great, book, for, travelling, europe, i, currently, live, in, europe, and, this, is, the, book, i, recommend, for, my, visitors, it, covers, many, countries, colour, pictures, and, is, a, nice, starter, for, before, you, go, and, once, you, are, there]                                                                                                                                                                                                                                                                                                                                                                                                                                                                                                                                                                                                                                                                                                                                                                                     |40    |\n",
      "|Not!: If you want to listen to El Duke , then it is better if you have access to his shower,this is not him, it is a gimmick,very well orchestrated.                                                                                                                                                                                                                                                                                                                                                                                                                                                                                                                                                                                                                                                                                                                                                             |[not, if, you, want, to, listen, to, el, duke, then, it, is, better, if, you, have, access, to, his, shower, this, is, not, him, it, is, a, gimmick, very, well, orchestrated]                                                                                                                                                                                                                                                                                                                                                                                                                                                                                                                                                                                                                                                                                                                                                                                                                                                                    |31    |\n",
      "|A complete Bust: This game requires quicktime 5.0 to work...if you have a better version of quicktime (I have 7.5), it will ask you to install the quicktime available on the CD...if you click no, it will not let you play. So, I begrudgingly clicked yes on the third try, and it installed quicktime 5, THEN it tells me to please install the quicktime available on the disc. It KEPT telling me that, even after I uninstalled my version of quicktime 7.5, and reinstalled Barbie Rapunzel and quicktime 5. Very frustrating, and the game absolutely will not work for me. It keeps telling me over and over, to install quicktime 5, tho I've been through the installation process repeatedly. It is NOT my \"operating system limitations\". This is a brand new computer...merely weeks old with all the state of the art contraptions.                                                              |[a, complete, bust, this, game, requires, quicktime, 5, 0, to, work, if, you, have, a, better, version, of, quicktime, i, have, 7, 5, it, will, ask, you, to, install, the, quicktime, available, on, the, cd, if, you, click, no, it, will, not, let, you, play, so, i, begrudgingly, clicked, yes, on, the, third, try, and, it, installed, quicktime, 5, then, it, tells, me, to, please, install, the, quicktime, available, on, the, disc, it, kept, telling, me, that, even, after, i, uninstalled, my, version, of, quicktime, 7, 5, and, reinstalled, barbie, rapunzel, and, quicktime, 5, very, frustrating, and, the, game, absolutely, will, not, work, for, me, it, keeps, telling, me, over, and, over, to, install, quicktime, 5, tho, i, ve, been, through, the, installation, process, repeatedly, it, is, not, my, operating, system, limitations, this, is, a, brand, new, computer, merely, weeks, old, with, all, the, state, of, the, art, contraptions]                                                                     |149   |\n",
      "|TRULY MADE A DIFFERENCE!: I have been using this product for a couple years now. I started using it because my hair had gotten so dry from all the chemical treatments and relaxers. This actualy came in the relaxer kit. I tried it and could not beleive the difference it made with one use. I could not find it in any of the stores at the time so I searched Amazon and they had it. I absolutely love it. It is the best moisturizing product I have used so far. My hair is soft with good elasticity and it is not breaking anywhere close to what it was. I am very happy with it.                                                                                                                                                                                                                                                                                                                    |[truly, made, a, difference, i, have, been, using, this, product, for, a, couple, years, now, i, started, using, it, because, my, hair, had, gotten, so, dry, from, all, the, chemical, treatments, and, relaxers, this, actualy, came, in, the, relaxer, kit, i, tried, it, and, could, not, beleive, the, difference, it, made, with, one, use, i, could, not, find, it, in, any, of, the, stores, at, the, time, so, i, searched, amazon, and, they, had, it, i, absolutely, love, it, it, is, the, best, moisturizing, product, i, have, used, so, far, my, hair, is, soft, with, good, elasticity, and, it, is, not, breaking, anywhere, close, to, what, it, was, i, am, very, happy, with, it]                                                                                                                                                                                                                                                                                                                                             |114   |\n",
      "|didn't run off of USB bus power: Was hoping that this drive would run off of bus power, but it required the adapter to actually work. :( I sent it back.                                                                                                                                                                                                                                                                                                                                                                                                                                                                                                                                                                                                                                                                                                                                                         |[didn, t, run, off, of, usb, bus, power, was, hoping, that, this, drive, would, run, off, of, bus, power, but, it, required, the, adapter, to, actually, work, i, sent, it, back]                                                                                                                                                                                                                                                                                                                                                                                                                                                                                                                                                                                                                                                                                                                                                                                                                                                                 |31    |\n",
      "|Don't buy!: First of all, the company took my money and sent me an email telling me the product was shipped. A week and a half later I received another email telling me that they are sorry, but they don't actually have any of these items, and if I received an email telling me it has shipped, it was a mistake.When I finally got my money back, I went through another company to buy the product and it won't work with my phone, even though it depicts that it will. I have sent numerous emails to the company - I can't actually find a phone number on their website - and I still have not gotten any kind of response. What kind of customer service is that? No one will help me with this problem. My advice - don't waste your money!                                                                                                                                                         |[don, t, buy, first, of, all, the, company, took, my, money, and, sent, me, an, email, telling, me, the, product, was, shipped, a, week, and, a, half, later, i, received, another, email, telling, me, that, they, are, sorry, but, they, don, t, actually, have, any, of, these, items, and, if, i, received, an, email, telling, me, it, has, shipped, it, was, a, mistake, when, i, finally, got, my, money, back, i, went, through, another, company, to, buy, the, product, and, it, won, t, work, with, my, phone, even, though, it, depicts, that, it, will, i, have, sent, numerous, emails, to, the, company, i, can, t, actually, find, a, phone, number, on, their, website, and, i, still, have, not, gotten, any, kind, of, response, what, kind, of, customer, service, is, that, no, one, will, help, me, with, this, problem, my, advice, don, t, waste, your, money]                                                                                                                                                            |145   |\n",
      "|Simple, Durable, Fun game for all ages: This is an AWESOME game! Almost everyone know tic-tac-toe so it is EASY to learn and quick to play. You can't play just once! The twist is that your pieces are slightly different sizes - just big enough to gobble up your opponent. The first person to make tic-tac-toe wins, but it's not as easy as it looks when you're stuck in the mindset of just making three in a row and forget about the gobbling possibilities! My 4 and 5 year olds will beat me even when I'm trying to win! Excellent beginning critical thinking game. Grandparents loved playing it with the kids too.                                                                                                                                                                                                                                                                               |[simple, durable, fun, game, for, all, ages, this, is, an, awesome, game, almost, everyone, know, tic, tac, toe, so, it, is, easy, to, learn, and, quick, to, play, you, can, t, play, just, once, the, twist, is, that, your, pieces, are, slightly, different, sizes, just, big, enough, to, gobble, up, your, opponent, the, first, person, to, make, tic, tac, toe, wins, but, it, s, not, as, easy, as, it, looks, when, you, re, stuck, in, the, mindset, of, just, making, three, in, a, row, and, forget, about, the, gobbling, possibilities, my, 4, and, 5, year, olds, will, beat, me, even, when, i, m, trying, to, win, excellent, beginning, critical, thinking, game, grandparents, loved, playing, it, with, the, kids, too]                                                                                                                                                                                                                                                                                                      |119   |\n",
      "|Review of Kelly Club for Toddlers: For the price of 7.99, this PC game is WELL worth it, great graphics, colorful and lots to do! My four year old daughter is in love with the many tasks to complete in this game, including dressing and grooming wide variety of pets and decoration of numerous floats to show in your little one's very own parade.                                                                                                                                                                                                                                                                                                                                                                                                                                                                                                                                                        |[review, of, kelly, club, for, toddlers, for, the, price, of, 7, 99, this, pc, game, is, well, worth, it, great, graphics, colorful, and, lots, to, do, my, four, year, old, daughter, is, in, love, with, the, many, tasks, to, complete, in, this, game, including, dressing, and, grooming, wide, variety, of, pets, and, decoration, of, numerous, floats, to, show, in, your, little, one, s, very, own, parade]                                                                                                                                                                                                                                                                                                                                                                                                                                                                                                                                                                                                                             |66    |\n",
      "|SOY UN APASIONADO DEL BOX: Y ESTE LIBRO ESTÁ ESPLÉNDIDO !Lo disfrutas, lo puedes usar como obra de consultaNos trae LAS HISTORIA DE LOS BOXEADORES MÁS BRILLANTES, DE LOS CAMPEONES DURANTE CIEN AÑOS !!Si te gusta el box...¡NO TE LO PIERDAS !                                                                                                                                                                                                                                                                                                                                                                                                                                                                                                                                                                                                                                                                 |[soy, un, apasionado, del, box, y, este, libro, est, espl, ndido, lo, disfrutas, lo, puedes, usar, como, obra, de, consultanos, trae, las, historia, de, los, boxeadores, m, s, brillantes, de, los, campeones, durante, cien, a, os, si, te, gusta, el, box, no, te, lo, pierdas]                                                                                                                                                                                                                                                                                                                                                                                                                                                                                                                                                                                                                                                                                                                                                                |45    |\n",
      "|Some of the best fiddle playing I have heard in a long time: This is an excellent album with some great fiddle playing. Ryan is amazing to watch when he plays in person. You can feel the emotion he puts into each song.                                                                                                                                                                                                                                                                                                                                                                                                                                                                                                                                                                                                                                                                                       |[some, of, the, best, fiddle, playing, i, have, heard, in, a, long, time, this, is, an, excellent, album, with, some, great, fiddle, playing, ryan, is, amazing, to, watch, when, he, plays, in, person, you, can, feel, the, emotion, he, puts, into, each, song]                                                                                                                                                                                                                                                                                                                                                                                                                                                                                                                                                                                                                                                                                                                                                                                |43    |\n",
      "+-----------------------------------------------------------------------------------------------------------------------------------------------------------------------------------------------------------------------------------------------------------------------------------------------------------------------------------------------------------------------------------------------------------------------------------------------------------------------------------------------------------------------------------------------------------------------------------------------------------------------------------------------------------------------------------------------------------------------------------------------------------------------------------------------------------------------------------------------------------------------------------------------------------------+--------------------------------------------------------------------------------------------------------------------------------------------------------------------------------------------------------------------------------------------------------------------------------------------------------------------------------------------------------------------------------------------------------------------------------------------------------------------------------------------------------------------------------------------------------------------------------------------------------------------------------------------------------------------------------------------------------------------------------------------------------------------------------------------------------------------------------------------------------------------------------------------------------------------------------------------------------------------------------------------------------------------------------------------------+------+\n",
      "only showing top 20 rows"
     ]
    }
   ],
   "source": [
    "regexTokenized_test.select(\"reviewText\", \"words\") \\\n",
    "    .withColumn(\"tokens\", countTokens(col(\"words\"))).show(truncate=False)\n",
    "\n"
   ]
  },
  {
   "cell_type": "code",
   "execution_count": 23,
   "metadata": {},
   "outputs": [
    {
     "data": {
      "application/vnd.jupyter.widget-view+json": {
       "model_id": "98fb25bbdcfe4ecdbc20d7a02f0eb13b",
       "version_major": 2,
       "version_minor": 0
      },
      "text/plain": [
       "VBox()"
      ]
     },
     "metadata": {},
     "output_type": "display_data"
    },
    {
     "data": {
      "application/vnd.jupyter.widget-view+json": {
       "model_id": "",
       "version_major": 2,
       "version_minor": 0
      },
      "text/plain": [
       "FloatProgress(value=0.0, bar_style='info', description='Progress:', layout=Layout(height='25px', width='50%'),…"
      ]
     },
     "metadata": {},
     "output_type": "display_data"
    }
   ],
   "source": [
    "tf_test = htf.transform(regexTokenized_test)\n",
    "testSet = tf_test[[\"label\",\"features\"]]\n",
    "testSet = testSet.withColumn(\"label\",testSet[\"label\"].cast(DoubleType()))"
   ]
  },
  {
   "cell_type": "code",
   "execution_count": 24,
   "metadata": {},
   "outputs": [
    {
     "data": {
      "application/vnd.jupyter.widget-view+json": {
       "model_id": "d9bf072f1b334c66b8cf9ce384f3a5c2",
       "version_major": 2,
       "version_minor": 0
      },
      "text/plain": [
       "VBox()"
      ]
     },
     "metadata": {},
     "output_type": "display_data"
    },
    {
     "data": {
      "application/vnd.jupyter.widget-view+json": {
       "model_id": "",
       "version_major": 2,
       "version_minor": 0
      },
      "text/plain": [
       "FloatProgress(value=0.0, bar_style='info', description='Progress:', layout=Layout(height='25px', width='50%'),…"
      ]
     },
     "metadata": {},
     "output_type": "display_data"
    }
   ],
   "source": [
    "\n",
    "prediction = model.transform(testSet)"
   ]
  },
  {
   "cell_type": "code",
   "execution_count": 25,
   "metadata": {},
   "outputs": [
    {
     "data": {
      "application/vnd.jupyter.widget-view+json": {
       "model_id": "0780cc2b8e0e4c258d5e7236a64cc72d",
       "version_major": 2,
       "version_minor": 0
      },
      "text/plain": [
       "VBox()"
      ]
     },
     "metadata": {},
     "output_type": "display_data"
    },
    {
     "data": {
      "application/vnd.jupyter.widget-view+json": {
       "model_id": "",
       "version_major": 2,
       "version_minor": 0
      },
      "text/plain": [
       "FloatProgress(value=0.0, bar_style='info', description='Progress:', layout=Layout(height='25px', width='50%'),…"
      ]
     },
     "metadata": {},
     "output_type": "display_data"
    },
    {
     "name": "stdout",
     "output_type": "stream",
     "text": [
      "Test Error = 0.5"
     ]
    }
   ],
   "source": [
    "evaluator = MulticlassClassificationEvaluator(labelCol=\"label\", predictionCol=\"prediction\", metricName=\"accuracy\")\n",
    "accuracy = evaluator.evaluate(prediction)\n",
    "print(\"Test Error = %g \" % (accuracy))"
   ]
  },
  {
   "cell_type": "code",
   "execution_count": null,
   "metadata": {},
   "outputs": [],
   "source": []
  }
 ],
 "metadata": {
  "kernelspec": {
   "display_name": "PySpark",
   "language": "",
   "name": "pysparkkernel"
  },
  "language_info": {
   "codemirror_mode": {
    "name": "python",
    "version": 2
   },
   "mimetype": "text/x-python",
   "name": "pyspark",
   "pygments_lexer": "python2"
  }
 },
 "nbformat": 4,
 "nbformat_minor": 4
}
